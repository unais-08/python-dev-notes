{
 "cells": [
  {
   "cell_type": "code",
   "execution_count": null,
   "id": "8a5034ba",
   "metadata": {},
   "outputs": [],
   "source": [
    "import pandas as pd"
   ]
  },
  {
   "cell_type": "code",
   "execution_count": null,
   "id": "be303570",
   "metadata": {},
   "outputs": [],
   "source": [
    "# From Python List to Pandas Series\n",
    "sales_list = [250, 300, 150, 400]\n",
    "sales_series_from_list = pd.Series(sales_list, index=[\"Mon\", \"Tue\", \"Wed\", \"Thu\"])\n",
    "print(sales_series_from_list)"
   ]
  },
  {
   "cell_type": "code",
   "execution_count": 38,
   "id": "5e362302",
   "metadata": {},
   "outputs": [
    {
     "name": "stdout",
     "output_type": "stream",
     "text": [
      "Mon    250\n",
      "Tue    300\n",
      "Wed    150\n",
      "Thu    400\n",
      "dtype: int64\n"
     ]
    }
   ],
   "source": [
    "# From Python Dictionary to Pandas Series\n",
    "sales_dict = {\"Mon\": 250, \"Tue\": 300, \"Wed\": 150, \"Thu\": 400}\n",
    "sales_series = pd.Series(sales_dict)\n",
    "print(sales_series)"
   ]
  },
  {
   "cell_type": "code",
   "execution_count": null,
   "id": "2f818d9e",
   "metadata": {},
   "outputs": [],
   "source": [
    "# Accessing Data in Series\n",
    "print(sales_series[0])\n",
    "print(sales_series[\"Wed\"])\n",
    "print(sales_series[[\"Wed\", \"Thu\"]])\n",
    "print(sales_series[\"Tue\":\"Thu\"])  # Includes both Tue and Thu\n",
    "print(sales_series[1:3])  # Up to index 3 (exclusive)"
   ]
  },
  {
   "cell_type": "code",
   "execution_count": null,
   "id": "44b91903",
   "metadata": {},
   "outputs": [],
   "source": [
    "# Useful Series Attributes\n",
    "print(sales_series.index)  # Index labels\n",
    "print(sales_series.values)  # Data values as NumPy array\n",
    "print(sales_series.dtype)  # Data type\n",
    "print(sales_series.shape)  # (number of elements,)\n",
    "sales_series.name = \"Coffee Sales\"  # Give your series a name\n",
    "print(sales_series.name)"
   ]
  },
  {
   "cell_type": "code",
   "execution_count": null,
   "id": "897e27d9",
   "metadata": {},
   "outputs": [],
   "source": [
    "# Operations on Series\n",
    "print(sales_series + 50)  # Add 50 to each value\n",
    "print(sales_series * 2)  # Multiply each value by 2\n",
    "\n",
    "# Vectorized filtering:\n",
    "print(sales_series[sales_series > 200])"
   ]
  },
  {
   "cell_type": "code",
   "execution_count": null,
   "id": "ec09080a",
   "metadata": {},
   "outputs": [],
   "source": [
    "# Mathematical methods:\n",
    "print(sales_series.sum())\n",
    "print(sales_series.mean())\n",
    "print(sales_series.max())\n",
    "print(sales_series.min())"
   ]
  },
  {
   "cell_type": "code",
   "execution_count": null,
   "id": "79d296d1",
   "metadata": {},
   "outputs": [],
   "source": [
    "# Real-World Mini Example\n",
    "# Imagine you’re tracking daily coffee sales:\n",
    "\n",
    "coffee_sales = pd.Series({\"Mon\": 250, \"Tue\": 300, \"Wed\": 150, \"Thu\": 400, \"Fri\": 500})\n",
    "\n",
    "# Which day had the highest sales?\n",
    "best_day = coffee_sales.idxmax()  # returns index label with max value\n",
    "max_sales = coffee_sales.max()\n",
    "\n",
    "# Which days were below average sales?\n",
    "avg_sales = coffee_sales.mean()\n",
    "below_avg_days = coffee_sales[coffee_sales < avg_sales]\n",
    "\n",
    "print(\"Best day:\", best_day, \"with sales:\", max_sales)\n",
    "print(\"Days below average sales:\\n\", below_avg_days)"
   ]
  }
 ],
 "metadata": {
  "kernelspec": {
   "display_name": "venv",
   "language": "python",
   "name": "python3"
  },
  "language_info": {
   "codemirror_mode": {
    "name": "ipython",
    "version": 3
   },
   "file_extension": ".py",
   "mimetype": "text/x-python",
   "name": "python",
   "nbconvert_exporter": "python",
   "pygments_lexer": "ipython3",
   "version": "3.12.3"
  }
 },
 "nbformat": 4,
 "nbformat_minor": 5
}
