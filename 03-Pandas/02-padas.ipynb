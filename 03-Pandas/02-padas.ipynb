{
 "cells": [
  {
   "cell_type": "code",
   "execution_count": null,
   "id": "61e5542a",
   "metadata": {},
   "outputs": [],
   "source": [
    "import pandas as pd"
   ]
  },
  {
   "cell_type": "code",
   "execution_count": null,
   "id": "cb3fa563",
   "metadata": {},
   "outputs": [],
   "source": [
    "# From a dictionary of lists\n",
    "data = {\n",
    "    \"Day\": [\"Mon\", \"Tue\", \"Wed\", \"Thu\", \"Fri\"],\n",
    "    \"Coffee_Sales\": [250, 300, 150, 400, 500],\n",
    "    \"Tea_Sales\": [100, 120, 80, 200, 220],\n",
    "}\n",
    "df = pd.DataFrame(data)\n",
    "print(df)"
   ]
  },
  {
   "cell_type": "code",
   "execution_count": null,
   "id": "7761533d",
   "metadata": {},
   "outputs": [],
   "source": [
    "# From a list of dictionaries\n",
    "data = [\n",
    "    {\"Day\": \"Mon\", \"Coffee_Sales\": 250, \"Tea_Sales\": 100},\n",
    "    {\"Day\": \"Tue\", \"Coffee_Sales\": 300, \"Tea_Sales\": 120},\n",
    "    {\"Day\": \"Wed\", \"Coffee_Sales\": 150, \"Tea_Sales\": 80},\n",
    "]\n",
    "df = pd.DataFrame(data)\n",
    "print(df)"
   ]
  },
  {
   "cell_type": "code",
   "execution_count": null,
   "id": "d5cb6935",
   "metadata": {},
   "outputs": [],
   "source": [
    "# From a dictionary of Series\n",
    "coffee = pd.Series([250, 300, 150], index=[\"Mon\", \"Tue\", \"Wed\"])\n",
    "tea = pd.Series([100, 120, 80], index=[\"Mon\", \"Tue\", \"Wed\"])\n",
    "df = pd.DataFrame({\"Coffee_Sales\": coffee, \"Tea_Sales\": tea})\n",
    "print(df)"
   ]
  },
  {
   "cell_type": "code",
   "execution_count": null,
   "id": "9a4a1c98",
   "metadata": {},
   "outputs": [],
   "source": [
    "#  Basic DataFrame Exploration\n",
    "df.head()\n",
    "df.tail(2)\n",
    "df.shape\n",
    "df.columns\n",
    "# df.info()\n",
    "df.describe()"
   ]
  },
  {
   "cell_type": "code",
   "execution_count": null,
   "id": "f633a0b0",
   "metadata": {},
   "outputs": [],
   "source": [
    "# Selecting Data\n",
    "\n",
    "# 1.Column selection\n",
    "print(df[\"Coffee_Sales\"])  # Single column (Series)\n",
    "# df[\"Coffee_Sales\"]\n",
    "df[[\"Day\", \"Tea_Sales\"]]  # Multiple columns (DataFrame)"
   ]
  },
  {
   "cell_type": "code",
   "execution_count": null,
   "id": "1a053e32",
   "metadata": {},
   "outputs": [],
   "source": [
    "# Row selection by index\n",
    "df.iloc[0]  # First row (by position)\n",
    "df.iloc[1:3]  # Rows 1 to 2\n",
    "df.loc[0]  # First row (by label)"
   ]
  },
  {
   "cell_type": "code",
   "execution_count": null,
   "id": "9ce59be6",
   "metadata": {},
   "outputs": [],
   "source": [
    "# Filtering rows\n",
    "df[df[\"Coffee_Sales\"] > 200]\n",
    "\n",
    "df[(df[\"Coffee_Sales\"] > 200) & (df[\"Tea_Sales\"] < 150)]"
   ]
  },
  {
   "cell_type": "code",
   "execution_count": null,
   "id": "d7430a9f",
   "metadata": {},
   "outputs": [],
   "source": [
    "# Adding & Modifying Columns\n",
    "df[\"Total_Sales\"] = df[\"Coffee_Sales\"] + df[\"Tea_Sales\"]\n",
    "df[\"Coffee_Percentage\"] = (df[\"Coffee_Sales\"] / df[\"Total_Sales\"]) * 100\n",
    "df.head()"
   ]
  },
  {
   "cell_type": "code",
   "execution_count": null,
   "id": "110b9b3a",
   "metadata": {},
   "outputs": [],
   "source": [
    "# Sorting\n",
    "df.sort_values(by=\"Coffee_Sales\", ascending=False)\n",
    "\n"
   ]
  },
  {
   "cell_type": "code",
   "execution_count": null,
   "id": "07ba75b3",
   "metadata": {},
   "outputs": [],
   "source": [
    "# Real-World Example\n",
    "# Add total sales\n",
    "df[\"Total_Sales\"] = df[\"Coffee_Sales\"] + df[\"Tea_Sales\"]\n",
    "\n",
    "best_tea_day = df.loc[df[\"Tea_Sales\"].idxmax(), \"Day\"]\n",
    "avg_total_sales = df[\"Total_Sales\"].mean()\n",
    "\n",
    "print(\"Day with highest tea sales:\", best_tea_day)\n",
    "print(\"Average total sales:\", avg_total_sales)\n"
   ]
  }
 ],
 "metadata": {
  "kernelspec": {
   "display_name": "venv",
   "language": "python",
   "name": "python3"
  },
  "language_info": {
   "codemirror_mode": {
    "name": "ipython",
    "version": 3
   },
   "file_extension": ".py",
   "mimetype": "text/x-python",
   "name": "python",
   "nbconvert_exporter": "python",
   "pygments_lexer": "ipython3",
   "version": "3.12.3"
  }
 },
 "nbformat": 4,
 "nbformat_minor": 5
}
