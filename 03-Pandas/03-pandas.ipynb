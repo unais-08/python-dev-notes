{
 "cells": [
  {
   "cell_type": "code",
   "execution_count": null,
   "id": "6c63ede6",
   "metadata": {},
   "outputs": [],
   "source": [
    "# --- Pandas Olympics Dataset Practice ---\n",
    "\n",
    "import pandas as pd\n",
    "\n",
    "# Load the dataset\n",
    "df = pd.read_csv(\"./data/bios.csv\")\n",
    "\n",
    "# ----------------------------------------\n",
    "# Level 1 – Warm-up\n",
    "# ----------------------------------------\n",
    "\n",
    "# 1. Load CSV & show first 5 rows\n",
    "df.head()\n",
    "\n",
    "# 2. Check shape of DataFrame\n",
    "# df.shape\n",
    "\n",
    "# 3. Display only `name` and `born_country`\n",
    "# df[[\"name\", \"born_country\"]]"
   ]
  },
  {
   "cell_type": "code",
   "execution_count": null,
   "id": "aad3b0bb",
   "metadata": {},
   "outputs": [],
   "source": [
    "# ----------------------------------------\n",
    "# Level 2 – Filtering & Selection\n",
    "# ----------------------------------------\n",
    "\n",
    "# 4. Select all athletes born in France\n",
    "# df[df[\"born_country\"] == \"FRA\"]\n",
    "\n",
    "# 5. Names of athletes taller than 180 cm\n",
    "# df[df[\"height_cm\"] > 180][\"name\"]\n",
    "\n",
    "# 6. Athletes who died before 1950\n",
    "df[pd.to_datetime(df[\"died_date\"], errors=\"coerce\") < \"1950-01-01\"]"
   ]
  },
  {
   "cell_type": "code",
   "execution_count": null,
   "id": "30d51bf4",
   "metadata": {},
   "outputs": [],
   "source": [
    "# ----------------------------------------\n",
    "# Level 3 – Aggregations & Sorting\n",
    "# ----------------------------------------\n",
    "\n",
    "# 7. Count athletes from each country\n",
    "# df[\"born_country\"].value_counts()\n",
    "# (df[\"born_country\"]==\"IND\").sum()\n",
    "# 8. Average height of athletes from France\n",
    "# df[df[\"born_country\"] == \"FRA\"][\"height_cm\"].mean()\n",
    "# df[df[\"born_country\"] == \"IND\"][\"height_cm\"].mean()\n",
    "\n",
    "\n",
    "# 9. Sort by `born_date` ascending\n",
    "df.sort_values(by=\"born_date\", ascending=True)"
   ]
  },
  {
   "cell_type": "code",
   "execution_count": null,
   "id": "5b578c05",
   "metadata": {},
   "outputs": [],
   "source": [
    "# ----------------------------------------\n",
    "# Level 4 – Data Cleaning\n",
    "# ----------------------------------------\n",
    "\n",
    "# 10. Fill missing height with average height\n",
    "avg_height = df[\"height_cm\"].mean()\n",
    "df[\"height_cm\"]=df[\"height_cm\"].fillna(avg_height)\n",
    "\n",
    "# 11. Replace NaN in `died_date` with \"Still Alive\"\n",
    "df[\"died_date\"]=df[\"died_date\"].fillna(\"Still Alive\")\n",
    "# df[\"died_date\"]"
   ]
  }
 ],
 "metadata": {
  "kernelspec": {
   "display_name": "venv",
   "language": "python",
   "name": "python3"
  },
  "language_info": {
   "codemirror_mode": {
    "name": "ipython",
    "version": 3
   },
   "file_extension": ".py",
   "mimetype": "text/x-python",
   "name": "python",
   "nbconvert_exporter": "python",
   "pygments_lexer": "ipython3",
   "version": "3.12.3"
  }
 },
 "nbformat": 4,
 "nbformat_minor": 5
}
