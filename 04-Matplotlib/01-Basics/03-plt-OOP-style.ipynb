{
 "cells": [
  {
   "cell_type": "code",
   "execution_count": null,
   "id": "d59d97f6",
   "metadata": {},
   "outputs": [],
   "source": [
    "import matplotlib.pyplot as plt"
   ]
  },
  {
   "cell_type": "code",
   "execution_count": null,
   "id": "7ec44693",
   "metadata": {},
   "outputs": [],
   "source": [
    "x = [12, 14, 16, 18, 20]\n",
    "y = [1000, 1500, 2000, 2500, 3000]"
   ]
  },
  {
   "cell_type": "code",
   "execution_count": null,
   "id": "59d6031d",
   "metadata": {},
   "outputs": [],
   "source": [
    "\n",
    "# Step 1: Create a Figure and Axes object\n",
    "fig, axes = plt.subplots()  # fig is the full figure, axes is the actual plot area (a single Axes object)\n",
    "\n",
    "axes.plot(x, y)\n",
    "\n",
    "axes.set_title(\"My First Plot\")  # Title\n",
    "axes.set_xlabel(\"X-axis Label\")  # X label\n",
    "axes.set_ylabel(\"Y-axis Label\")  # Y label\n",
    "\n",
    "\n",
    "# ax.set_xlim(0, 10)   # Axis limits\n",
    "\n",
    "axes.xaxis.set_label_text(\"X Axis\", color='g')  # Alternative way to set label with color\n",
    "axes.xaxis.set_tick_params(rotation=45, color='red')  # Rotates x-ticks and changes tick color\n",
    "axes.yaxis.set_label_text(\"Y Axis\")  # Sets Y-axis label again\n",
    "\n",
    "axes.yaxis.set_tick_params(rotation=45, color='blue')\n",
    "\n",
    "plt.show()"
   ]
  }
 ],
 "metadata": {
  "kernelspec": {
   "display_name": "venv",
   "language": "python",
   "name": "python3"
  },
  "language_info": {
   "codemirror_mode": {
    "name": "ipython",
    "version": 3
   },
   "file_extension": ".py",
   "mimetype": "text/x-python",
   "name": "python",
   "nbconvert_exporter": "python",
   "pygments_lexer": "ipython3",
   "version": "3.12.3"
  }
 },
 "nbformat": 4,
 "nbformat_minor": 5
}
